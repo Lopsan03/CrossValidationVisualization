{
 "cells": [
  {
   "cell_type": "markdown",
   "id": "82987074",
   "metadata": {
    "papermill": {
     "duration": 0.007708,
     "end_time": "2023-07-29T01:16:09.506893",
     "exception": false,
     "start_time": "2023-07-29T01:16:09.499185",
     "status": "completed"
    },
    "tags": []
   },
   "source": [
    "# Imports"
   ]
  },
  {
   "cell_type": "code",
   "execution_count": 1,
   "id": "fb56f4d6",
   "metadata": {
    "execution": {
     "iopub.execute_input": "2023-07-29T01:16:09.523436Z",
     "iopub.status.busy": "2023-07-29T01:16:09.523028Z",
     "iopub.status.idle": "2023-07-29T01:16:11.972048Z",
     "shell.execute_reply": "2023-07-29T01:16:11.969709Z"
    },
    "papermill": {
     "duration": 2.460128,
     "end_time": "2023-07-29T01:16:11.974497",
     "exception": false,
     "start_time": "2023-07-29T01:16:09.514369",
     "status": "completed"
    },
    "tags": []
   },
   "outputs": [
    {
     "name": "stderr",
     "output_type": "stream",
     "text": [
      "/opt/conda/lib/python3.10/site-packages/scipy/__init__.py:146: UserWarning: A NumPy version >=1.16.5 and <1.23.0 is required for this version of SciPy (detected version 1.23.5\n",
      "  warnings.warn(f\"A NumPy version >={np_minversion} and <{np_maxversion}\"\n",
      "/tmp/ipykernel_20/2166621579.py:18: MatplotlibDeprecationWarning: The seaborn styles shipped by Matplotlib are deprecated since 3.6, as they no longer correspond to the styles shipped by seaborn. However, they will remain available as 'seaborn-v0_8-<style>'. Alternatively, directly use the seaborn API instead.\n",
      "  plt.style.use('seaborn-white')\n"
     ]
    }
   ],
   "source": [
    "import pandas as pd\n",
    "import numpy as np\n",
    "\n",
    "import matplotlib.pylab as plt\n",
    "import lightgbm as lgb\n",
    "\n",
    "from sklearn.metrics import accuracy_score, roc_auc_score\n",
    "\n",
    "from sklearn.model_selection import (\n",
    "    train_test_split,\n",
    "    TimeSeriesSplit,\n",
    "    KFold,\n",
    "    StratifiedKFold,\n",
    "    GroupKFold,\n",
    "    StratifiedGroupKFold,\n",
    ")\n",
    "\n",
    "plt.style.use('seaborn-white')"
   ]
  },
  {
   "cell_type": "markdown",
   "id": "c0d370bc",
   "metadata": {
    "papermill": {
     "duration": 0.007264,
     "end_time": "2023-07-29T01:16:11.989541",
     "exception": false,
     "start_time": "2023-07-29T01:16:11.982277",
     "status": "completed"
    },
    "tags": []
   },
   "source": [
    "## The Dataset\n",
    "\n",
    "Stroke Prediction Data. Using information about patients, predict if thet are likely to have a stroke.\n",
    "\n",
    "* Gender, martial status, smoking status, age, etc.\n",
    "* Also have a \"Doctor\" feature added to represent the \"group\" within the data."
   ]
  },
  {
   "cell_type": "code",
   "execution_count": 2,
   "id": "26992cd6",
   "metadata": {
    "execution": {
     "iopub.execute_input": "2023-07-29T01:16:12.006889Z",
     "iopub.status.busy": "2023-07-29T01:16:12.006476Z",
     "iopub.status.idle": "2023-07-29T01:16:12.085060Z",
     "shell.execute_reply": "2023-07-29T01:16:12.084036Z"
    },
    "papermill": {
     "duration": 0.090414,
     "end_time": "2023-07-29T01:16:12.087571",
     "exception": false,
     "start_time": "2023-07-29T01:16:11.997157",
     "status": "completed"
    },
    "tags": []
   },
   "outputs": [],
   "source": [
    "def get_prep_data():\n",
    "    data = pd.read_csv(\n",
    "        \"../input/stroke-prediction-dataset/healthcare-dataset-stroke-data.csv\"\n",
    "    )\n",
    "    data[\"ever_married\"] = (\n",
    "        data[\"ever_married\"].replace(\"Yes\", True).replace(\"No\", False)\n",
    "    )\n",
    "    data[\"gender\"] = data[\"gender\"].astype(\"category\")\n",
    "    data[\"smoking_status\"] = data[\"smoking_status\"].astype(\"category\")\n",
    "    data[\"Residence_type\"] = data[\"Residence_type\"].astype(\"category\")\n",
    "    data[\"work_type\"] = data[\"work_type\"].astype(\"category\")\n",
    "    data[\"doctor\"] = np.random.randint(0, 8, size=len(data))\n",
    "    holdout_ids = data.sample(n=500, random_state=529).index\n",
    "\n",
    "    train = (\n",
    "        data.loc[~data.index.isin(holdout_ids)]\n",
    "        .sample(frac=1, random_state=529)\n",
    "        .sort_values(\"doctor\")\n",
    "        .reset_index(drop=True)\n",
    "    )\n",
    "    holdout = (\n",
    "        data.loc[data.index.isin(holdout_ids)]\n",
    "        .sample(frac=1, random_state=529)\n",
    "        .sort_values(\"doctor\")\n",
    "        .reset_index(drop=True)\n",
    "    )\n",
    "\n",
    "    return train, holdout\n",
    "\n",
    "\n",
    "train, holdout = get_prep_data()"
   ]
  },
  {
   "cell_type": "code",
   "execution_count": 3,
   "id": "68fa6554",
   "metadata": {
    "execution": {
     "iopub.execute_input": "2023-07-29T01:16:12.106311Z",
     "iopub.status.busy": "2023-07-29T01:16:12.105881Z",
     "iopub.status.idle": "2023-07-29T01:16:12.131403Z",
     "shell.execute_reply": "2023-07-29T01:16:12.130327Z"
    },
    "papermill": {
     "duration": 0.037402,
     "end_time": "2023-07-29T01:16:12.134447",
     "exception": false,
     "start_time": "2023-07-29T01:16:12.097045",
     "status": "completed"
    },
    "tags": []
   },
   "outputs": [
    {
     "data": {
      "text/html": [
       "<div>\n",
       "<style scoped>\n",
       "    .dataframe tbody tr th:only-of-type {\n",
       "        vertical-align: middle;\n",
       "    }\n",
       "\n",
       "    .dataframe tbody tr th {\n",
       "        vertical-align: top;\n",
       "    }\n",
       "\n",
       "    .dataframe thead th {\n",
       "        text-align: right;\n",
       "    }\n",
       "</style>\n",
       "<table border=\"1\" class=\"dataframe\">\n",
       "  <thead>\n",
       "    <tr style=\"text-align: right;\">\n",
       "      <th></th>\n",
       "      <th>id</th>\n",
       "      <th>gender</th>\n",
       "      <th>age</th>\n",
       "      <th>hypertension</th>\n",
       "      <th>heart_disease</th>\n",
       "      <th>ever_married</th>\n",
       "      <th>work_type</th>\n",
       "      <th>Residence_type</th>\n",
       "      <th>avg_glucose_level</th>\n",
       "      <th>bmi</th>\n",
       "      <th>smoking_status</th>\n",
       "      <th>stroke</th>\n",
       "      <th>doctor</th>\n",
       "    </tr>\n",
       "  </thead>\n",
       "  <tbody>\n",
       "    <tr>\n",
       "      <th>0</th>\n",
       "      <td>37698</td>\n",
       "      <td>Female</td>\n",
       "      <td>15.0</td>\n",
       "      <td>0</td>\n",
       "      <td>0</td>\n",
       "      <td>False</td>\n",
       "      <td>children</td>\n",
       "      <td>Urban</td>\n",
       "      <td>87.96</td>\n",
       "      <td>21.5</td>\n",
       "      <td>formerly smoked</td>\n",
       "      <td>0</td>\n",
       "      <td>0</td>\n",
       "    </tr>\n",
       "    <tr>\n",
       "      <th>1</th>\n",
       "      <td>72231</td>\n",
       "      <td>Female</td>\n",
       "      <td>47.0</td>\n",
       "      <td>0</td>\n",
       "      <td>0</td>\n",
       "      <td>True</td>\n",
       "      <td>Self-employed</td>\n",
       "      <td>Rural</td>\n",
       "      <td>195.61</td>\n",
       "      <td>NaN</td>\n",
       "      <td>never smoked</td>\n",
       "      <td>0</td>\n",
       "      <td>0</td>\n",
       "    </tr>\n",
       "    <tr>\n",
       "      <th>2</th>\n",
       "      <td>507</td>\n",
       "      <td>Female</td>\n",
       "      <td>28.0</td>\n",
       "      <td>0</td>\n",
       "      <td>0</td>\n",
       "      <td>True</td>\n",
       "      <td>Private</td>\n",
       "      <td>Rural</td>\n",
       "      <td>94.15</td>\n",
       "      <td>23.1</td>\n",
       "      <td>smokes</td>\n",
       "      <td>0</td>\n",
       "      <td>0</td>\n",
       "    </tr>\n",
       "    <tr>\n",
       "      <th>3</th>\n",
       "      <td>46483</td>\n",
       "      <td>Male</td>\n",
       "      <td>23.0</td>\n",
       "      <td>0</td>\n",
       "      <td>0</td>\n",
       "      <td>False</td>\n",
       "      <td>Private</td>\n",
       "      <td>Urban</td>\n",
       "      <td>77.75</td>\n",
       "      <td>38.8</td>\n",
       "      <td>smokes</td>\n",
       "      <td>0</td>\n",
       "      <td>0</td>\n",
       "    </tr>\n",
       "    <tr>\n",
       "      <th>4</th>\n",
       "      <td>20890</td>\n",
       "      <td>Female</td>\n",
       "      <td>61.0</td>\n",
       "      <td>0</td>\n",
       "      <td>0</td>\n",
       "      <td>True</td>\n",
       "      <td>Private</td>\n",
       "      <td>Rural</td>\n",
       "      <td>79.89</td>\n",
       "      <td>24.5</td>\n",
       "      <td>smokes</td>\n",
       "      <td>0</td>\n",
       "      <td>0</td>\n",
       "    </tr>\n",
       "  </tbody>\n",
       "</table>\n",
       "</div>"
      ],
      "text/plain": [
       "      id  gender   age  hypertension  heart_disease  ever_married  \\\n",
       "0  37698  Female  15.0             0              0         False   \n",
       "1  72231  Female  47.0             0              0          True   \n",
       "2    507  Female  28.0             0              0          True   \n",
       "3  46483    Male  23.0             0              0         False   \n",
       "4  20890  Female  61.0             0              0          True   \n",
       "\n",
       "       work_type Residence_type  avg_glucose_level   bmi   smoking_status  \\\n",
       "0       children          Urban              87.96  21.5  formerly smoked   \n",
       "1  Self-employed          Rural             195.61   NaN     never smoked   \n",
       "2        Private          Rural              94.15  23.1           smokes   \n",
       "3        Private          Urban              77.75  38.8           smokes   \n",
       "4        Private          Rural              79.89  24.5           smokes   \n",
       "\n",
       "   stroke  doctor  \n",
       "0       0       0  \n",
       "1       0       0  \n",
       "2       0       0  \n",
       "3       0       0  \n",
       "4       0       0  "
      ]
     },
     "execution_count": 3,
     "metadata": {},
     "output_type": "execute_result"
    }
   ],
   "source": [
    "train.head()"
   ]
  },
  {
   "cell_type": "code",
   "execution_count": 4,
   "id": "f220b10b",
   "metadata": {
    "execution": {
     "iopub.execute_input": "2023-07-29T01:16:12.151492Z",
     "iopub.status.busy": "2023-07-29T01:16:12.151103Z",
     "iopub.status.idle": "2023-07-29T01:16:12.158155Z",
     "shell.execute_reply": "2023-07-29T01:16:12.157026Z"
    },
    "papermill": {
     "duration": 0.017985,
     "end_time": "2023-07-29T01:16:12.160239",
     "exception": false,
     "start_time": "2023-07-29T01:16:12.142254",
     "status": "completed"
    },
    "tags": []
   },
   "outputs": [
    {
     "data": {
      "text/plain": [
       "Index(['id', 'gender', 'age', 'hypertension', 'heart_disease', 'ever_married',\n",
       "       'work_type', 'Residence_type', 'avg_glucose_level', 'bmi',\n",
       "       'smoking_status', 'stroke', 'doctor'],\n",
       "      dtype='object')"
      ]
     },
     "execution_count": 4,
     "metadata": {},
     "output_type": "execute_result"
    }
   ],
   "source": [
    "train.columns"
   ]
  },
  {
   "cell_type": "code",
   "execution_count": 5,
   "id": "c4853a87",
   "metadata": {
    "execution": {
     "iopub.execute_input": "2023-07-29T01:16:12.177520Z",
     "iopub.status.busy": "2023-07-29T01:16:12.177144Z",
     "iopub.status.idle": "2023-07-29T01:16:12.183052Z",
     "shell.execute_reply": "2023-07-29T01:16:12.181818Z"
    },
    "papermill": {
     "duration": 0.017293,
     "end_time": "2023-07-29T01:16:12.185354",
     "exception": false,
     "start_time": "2023-07-29T01:16:12.168061",
     "status": "completed"
    },
    "tags": []
   },
   "outputs": [],
   "source": [
    "FEATURES = [\n",
    "    \"gender\",\n",
    "    \"age\",\n",
    "    \"hypertension\",\n",
    "    \"heart_disease\",\n",
    "    \"ever_married\",\n",
    "    \"work_type\",\n",
    "    \"Residence_type\",\n",
    "    \"avg_glucose_level\",\n",
    "    \"bmi\",\n",
    "    \"smoking_status\",\n",
    "]\n",
    "GROUPS = \"doctor\"\n",
    "\n",
    "TARGET = \"stroke\""
   ]
  },
  {
   "cell_type": "code",
   "execution_count": 6,
   "id": "4f472e83",
   "metadata": {
    "execution": {
     "iopub.execute_input": "2023-07-29T01:16:12.203181Z",
     "iopub.status.busy": "2023-07-29T01:16:12.202379Z",
     "iopub.status.idle": "2023-07-29T01:16:12.208552Z",
     "shell.execute_reply": "2023-07-29T01:16:12.207312Z"
    },
    "papermill": {
     "duration": 0.017433,
     "end_time": "2023-07-29T01:16:12.210780",
     "exception": false,
     "start_time": "2023-07-29T01:16:12.193347",
     "status": "completed"
    },
    "tags": []
   },
   "outputs": [],
   "source": [
    "def get_X_y(train):\n",
    "    FEATURES = [\n",
    "        \"gender\",\n",
    "        \"age\",\n",
    "        \"hypertension\",\n",
    "        \"heart_disease\",\n",
    "        \"ever_married\",\n",
    "        \"work_type\",\n",
    "        \"Residence_type\",\n",
    "        \"avg_glucose_level\",\n",
    "        \"bmi\",\n",
    "        \"smoking_status\",\n",
    "    ]\n",
    "\n",
    "    GROUPS = \"doctor\"\n",
    "\n",
    "    TARGET = \"stroke\"\n",
    "\n",
    "    X = train[FEATURES]\n",
    "    y = train[TARGET]\n",
    "    groups = train[GROUPS]\n",
    "    return X, y, groups"
   ]
  },
  {
   "cell_type": "code",
   "execution_count": 7,
   "id": "725be0af",
   "metadata": {
    "execution": {
     "iopub.execute_input": "2023-07-29T01:16:12.228291Z",
     "iopub.status.busy": "2023-07-29T01:16:12.227919Z",
     "iopub.status.idle": "2023-07-29T01:16:12.907587Z",
     "shell.execute_reply": "2023-07-29T01:16:12.906579Z"
    },
    "papermill": {
     "duration": 0.691616,
     "end_time": "2023-07-29T01:16:12.910214",
     "exception": false,
     "start_time": "2023-07-29T01:16:12.218598",
     "status": "completed"
    },
    "tags": []
   },
   "outputs": [],
   "source": [
    "X, y, groups = get_X_y(train)\n",
    "clf = lgb.LGBMClassifier(n_estimators=100)\n",
    "clf.fit(X,y)\n",
    "# Predict on training set\n",
    "pred = clf.predict(X)\n",
    "pred_prob = clf.predict_proba(X)[:, 1]"
   ]
  },
  {
   "cell_type": "code",
   "execution_count": 8,
   "id": "a32fd7cc",
   "metadata": {
    "execution": {
     "iopub.execute_input": "2023-07-29T01:16:12.928502Z",
     "iopub.status.busy": "2023-07-29T01:16:12.928130Z",
     "iopub.status.idle": "2023-07-29T01:16:12.944581Z",
     "shell.execute_reply": "2023-07-29T01:16:12.943108Z"
    },
    "papermill": {
     "duration": 0.027993,
     "end_time": "2023-07-29T01:16:12.946794",
     "exception": false,
     "start_time": "2023-07-29T01:16:12.918801",
     "status": "completed"
    },
    "tags": []
   },
   "outputs": [
    {
     "name": "stdout",
     "output_type": "stream",
     "text": [
      "The score on the trainingh set is accuracy: 0.9911 and AUC of 0.9997\n"
     ]
    }
   ],
   "source": [
    "acc_score = accuracy_score(y, pred)\n",
    "# Area under the curve is another way to evaluate binary predictions but with feeding the prob.\n",
    "auc_score = roc_auc_score(y, pred_prob)\n",
    "\n",
    "print(f'The score on the trainingh set is accuracy: {acc_score:0.4f} and AUC of {auc_score:0.4f}')"
   ]
  },
  {
   "cell_type": "markdown",
   "id": "50019e39",
   "metadata": {
    "papermill": {
     "duration": 0.00784,
     "end_time": "2023-07-29T01:16:12.962541",
     "exception": false,
     "start_time": "2023-07-29T01:16:12.954701",
     "status": "completed"
    },
    "tags": []
   },
   "source": [
    "# Model can predict with 99% accuracy!!!\n",
    "* NOPE!"
   ]
  },
  {
   "cell_type": "code",
   "execution_count": 9,
   "id": "8d3903b1",
   "metadata": {
    "execution": {
     "iopub.execute_input": "2023-07-29T01:16:12.980030Z",
     "iopub.status.busy": "2023-07-29T01:16:12.979641Z",
     "iopub.status.idle": "2023-07-29T01:16:13.005111Z",
     "shell.execute_reply": "2023-07-29T01:16:13.004021Z"
    },
    "papermill": {
     "duration": 0.037077,
     "end_time": "2023-07-29T01:16:13.007496",
     "exception": false,
     "start_time": "2023-07-29T01:16:12.970419",
     "status": "completed"
    },
    "tags": []
   },
   "outputs": [
    {
     "name": "stdout",
     "output_type": "stream",
     "text": [
      "Our accuracy on the holdout set is 0.9380 and AUC is 0.7802\n"
     ]
    }
   ],
   "source": [
    "X_holdout = holdout[FEATURES]\n",
    "y_holdout = holdout[TARGET]\n",
    "\n",
    "pred = clf.predict(X_holdout)\n",
    "pred_prob = clf.predict_proba(X_holdout)[:, 1]\n",
    "acc_score = accuracy_score(y_holdout, pred)\n",
    "# Area under the curve is another way to evaluate ginarty predictions but with feeding the prob.\n",
    "auc_score = roc_auc_score(y_holdout, pred_prob)\n",
    "print(f'Our accuracy on the holdout set is {acc_score:0.4f} and AUC is {auc_score:0.4f}')"
   ]
  },
  {
   "cell_type": "markdown",
   "id": "e261edfc",
   "metadata": {
    "papermill": {
     "duration": 0.007773,
     "end_time": "2023-07-29T01:16:13.023317",
     "exception": false,
     "start_time": "2023-07-29T01:16:13.015544",
     "status": "completed"
    },
    "tags": []
   },
   "source": [
    "## Baseline\n",
    "Predicting all zeros"
   ]
  },
  {
   "cell_type": "code",
   "execution_count": 10,
   "id": "713c2fbb",
   "metadata": {
    "execution": {
     "iopub.execute_input": "2023-07-29T01:16:13.041423Z",
     "iopub.status.busy": "2023-07-29T01:16:13.040662Z",
     "iopub.status.idle": "2023-07-29T01:16:13.050495Z",
     "shell.execute_reply": "2023-07-29T01:16:13.049237Z"
    },
    "papermill": {
     "duration": 0.021478,
     "end_time": "2023-07-29T01:16:13.052811",
     "exception": false,
     "start_time": "2023-07-29T01:16:13.031333",
     "status": "completed"
    },
    "tags": []
   },
   "outputs": [
    {
     "data": {
      "text/plain": [
       "(0.9516268980477224, 0.5)"
      ]
     },
     "execution_count": 10,
     "metadata": {},
     "output_type": "execute_result"
    }
   ],
   "source": [
    "accuracy_score(y, np.zeros_like(y)), roc_auc_score(y, np.zeros_like(y))"
   ]
  },
  {
   "attachments": {
    "a5769c5d-4071-4bcc-925d-49cc9f218f92.png": {
     "image/png": "[encoded data removed]"
    }
   },
   "cell_type": "markdown",
   "id": "effd5a49",
   "metadata": {
    "papermill": {
     "duration": 0.007984,
     "end_time": "2023-07-29T01:16:13.069038",
     "exception": false,
     "start_time": "2023-07-29T01:16:13.061054",
     "status": "completed"
    },
    "tags": []
   },
   "source": [
    "## Train/Test Split\n",
    "\n",
    "Split the training data into a training and validation set. Train the model on the training set, and validate it on the validation set.\n",
    "\n",
    "![image.png](attachment:a5769c5d-4071-4bcc-925d-49cc9f218f92.png)\n",
    "\n",
    "* The most basic way of splitting data.\n",
    "* shuffle - Good idea to use to make sure the order isn't impacting your split.\n",
    "* stratified (even distribution of positive samples in each set). Consider using if you have a small or unbalanced dataset."
   ]
  },
  {
   "cell_type": "code",
   "execution_count": 11,
   "id": "fb17ec26",
   "metadata": {
    "execution": {
     "iopub.execute_input": "2023-07-29T01:16:13.087991Z",
     "iopub.status.busy": "2023-07-29T01:16:13.087227Z",
     "iopub.status.idle": "2023-07-29T01:16:13.257090Z",
     "shell.execute_reply": "2023-07-29T01:16:13.255978Z"
    },
    "papermill": {
     "duration": 0.181691,
     "end_time": "2023-07-29T01:16:13.259385",
     "exception": false,
     "start_time": "2023-07-29T01:16:13.077694",
     "status": "completed"
    },
    "tags": []
   },
   "outputs": [
    {
     "name": "stdout",
     "output_type": "stream",
     "text": [
      "Our accuracy on the validation set is 0.9349 and AUC is 0.8445\n"
     ]
    }
   ],
   "source": [
    "X, y, groups = get_X_y(train)\n",
    "\n",
    "X_train, X_val, y_train, y_val = train_test_split(X, y, test_size=0.1)\n",
    "clf = lgb.LGBMClassifier(n_estimators=100, max_depth=3)\n",
    "clf.fit(X_train,y_train)\n",
    "pred = clf.predict(X_val)\n",
    "pred_prob = clf.predict_proba(X_val)[:, 1]\n",
    "acc_score = accuracy_score(y_val, pred)\n",
    "auc_score = roc_auc_score(y_val, pred_prob)\n",
    "print(f'Our accuracy on the validation set is {acc_score:0.4f} and AUC is {auc_score:0.4f}')"
   ]
  },
  {
   "cell_type": "markdown",
   "id": "d31958f4",
   "metadata": {
    "papermill": {
     "duration": 0.007689,
     "end_time": "2023-07-29T01:16:13.275210",
     "exception": false,
     "start_time": "2023-07-29T01:16:13.267521",
     "status": "completed"
    },
    "tags": []
   },
   "source": [
    "# Cross Validation!"
   ]
  },
  {
   "cell_type": "code",
   "execution_count": 12,
   "id": "3b3a81c0",
   "metadata": {
    "execution": {
     "iopub.execute_input": "2023-07-29T01:16:13.293428Z",
     "iopub.status.busy": "2023-07-29T01:16:13.293013Z",
     "iopub.status.idle": "2023-07-29T01:16:13.310108Z",
     "shell.execute_reply": "2023-07-29T01:16:13.308939Z"
    },
    "papermill": {
     "duration": 0.029167,
     "end_time": "2023-07-29T01:16:13.312491",
     "exception": false,
     "start_time": "2023-07-29T01:16:13.283324",
     "status": "completed"
    },
    "tags": []
   },
   "outputs": [],
   "source": [
    "from matplotlib.patches import Patch\n",
    "cmap_data = plt.cm.Paired\n",
    "cmap_cv = plt.cm.coolwarm\n",
    "\n",
    "def visualize_groups(classes, groups, name):\n",
    "    # Visualize dataset groups\n",
    "    fig, ax = plt.subplots()\n",
    "    ax.scatter(\n",
    "        range(len(groups)),\n",
    "        [0.5] * len(groups),\n",
    "        c=groups,\n",
    "        marker=\"_\",\n",
    "        lw=50,\n",
    "        cmap=cmap_data,\n",
    "    )\n",
    "    ax.scatter(\n",
    "        range(len(groups)),\n",
    "        [3.5] * len(groups),\n",
    "        c=classes,\n",
    "        marker=\"_\",\n",
    "        lw=50,\n",
    "        cmap=cmap_data,\n",
    "    )\n",
    "    ax.set(\n",
    "        ylim=[-1, 5],\n",
    "        yticks=[0.5, 3.5],\n",
    "        yticklabels=[\"Data\\ngroup\", \"Data\\nclass\"],\n",
    "        xlabel=\"Sample index\",\n",
    "    )\n",
    "\n",
    "\n",
    "def plot_cv_indices(cv, X, y, group, ax, n_splits, lw=25):\n",
    "    \"\"\"Create a sample plot for indices of a cross-validation object.\"\"\"\n",
    "\n",
    "    # Generate the training/testing visualizations for each CV split\n",
    "    for ii, (tr, tt) in enumerate(cv.split(X=X, y=y, groups=group)):\n",
    "        # Fill in indices with the training/test groups\n",
    "        indices = np.array([np.nan] * len(X))\n",
    "        indices[tt] = 1\n",
    "        indices[tr] = 0\n",
    "\n",
    "        # Visualize the results\n",
    "        ax.scatter(\n",
    "            range(len(indices)),\n",
    "            [ii + 0.5] * len(indices),\n",
    "            c=indices,\n",
    "            marker=\"_\",\n",
    "            lw=lw,\n",
    "            cmap=cmap_cv,\n",
    "            vmin=-0.2,\n",
    "            vmax=1.2,\n",
    "        )\n",
    "\n",
    "    # Plot the data classes and groups at the end\n",
    "    ax.scatter(\n",
    "        range(len(X)), [ii + 1.5] * len(X), c=y, marker=\"_\", lw=lw, cmap=cmap_data\n",
    "    )\n",
    "\n",
    "    ax.scatter(\n",
    "        range(len(X)), [ii + 2.5] * len(X), c=group, marker=\"_\", lw=lw, cmap=cmap_data\n",
    "    )\n",
    "\n",
    "    # Formatting\n",
    "    yticklabels = list(range(n_splits)) + [\"class\", \"group\"]\n",
    "    ax.set(\n",
    "        yticks=np.arange(n_splits + 2) + 0.5,\n",
    "        yticklabels=yticklabels,\n",
    "        xlabel=\"Sample index\",\n",
    "        ylabel=\"CV iteration\",\n",
    "        ylim=[n_splits + 2.2, -0.2],\n",
    "        xlim=[0, 100],\n",
    "    )\n",
    "    ax.set_title(\"{}\".format(type(cv).__name__), fontsize=15)\n",
    "    return ax\n",
    "\n",
    "\n",
    "def plot_cv(cv, X, y, groups, n_splits=5):\n",
    "    this_cv = cv(n_splits=n_splits)\n",
    "    fig, ax = plt.subplots(figsize=(15, 5))\n",
    "    plot_cv_indices(this_cv, X, y, groups, ax, n_splits)\n",
    "\n",
    "    ax.legend(\n",
    "        [Patch(color=cmap_cv(0.8)), Patch(color=cmap_cv(0.02))],\n",
    "        [\"Testing set\", \"Training set\"],\n",
    "        loc=(1.02, 0.8),\n",
    "    )\n",
    "    plt.tight_layout()\n",
    "    fig.subplots_adjust(right=0.7)\n",
    "    plt.show()\n",
    "    \n",
    "def get_fake_X_y():\n",
    "    # Fake Generate the class/group data for an example\n",
    "    n_points = 100\n",
    "    X_ = np.random.randn(100, 10)\n",
    "\n",
    "    percentiles_classes = [0.1, 0.9]\n",
    "    y_ = np.hstack([[ii] * int(100 * perc) for ii, perc in enumerate(percentiles_classes)])\n",
    "\n",
    "    # Evenly spaced groups repeated once\n",
    "    groups_ = np.hstack([[ii] * 10 for ii in range(10)])\n",
    "    return X_, y_, groups_"
   ]
  },
  {
   "cell_type": "markdown",
   "id": "5f22fb6d",
   "metadata": {
    "papermill": {
     "duration": 0.007983,
     "end_time": "2023-07-29T01:16:13.329143",
     "exception": false,
     "start_time": "2023-07-29T01:16:13.321160",
     "status": "completed"
    },
    "tags": []
   },
   "source": [
    "# KFold"
   ]
  },
  {
   "cell_type": "code",
   "execution_count": 13,
   "id": "edab953b",
   "metadata": {
    "execution": {
     "iopub.execute_input": "2023-07-29T01:16:13.348039Z",
     "iopub.status.busy": "2023-07-29T01:16:13.347495Z",
     "iopub.status.idle": "2023-07-29T01:16:13.649842Z",
     "shell.execute_reply": "2023-07-29T01:16:13.648416Z"
    },
    "papermill": {
     "duration": 0.314619,
     "end_time": "2023-07-29T01:16:13.652205",
     "exception": false,
     "start_time": "2023-07-29T01:16:13.337586",
     "status": "completed"
    },
    "tags": []
   },
   "outputs": [
    {
     "data": {
      "image/png": "[encoded data removed]",
      "text/plain": [
       "<Figure size 1500x500 with 1 Axes>"
      ]
     },
     "metadata": {},
     "output_type": "display_data"
    }
   ],
   "source": [
    "kf = KFold()\n",
    "X_, y_, groups_ = get_fake_X_y()\n",
    "plot_cv(KFold, X_, y_, groups_)"
   ]
  },
  {
   "cell_type": "markdown",
   "id": "912b5c91",
   "metadata": {
    "papermill": {
     "duration": 0.008827,
     "end_time": "2023-07-29T01:16:13.669666",
     "exception": false,
     "start_time": "2023-07-29T01:16:13.660839",
     "status": "completed"
    },
    "tags": []
   },
   "source": [
    "## Stratified KFold\n",
    "\n",
    "* KFold but the folds are made by preserving the percentage of samples for each class."
   ]
  },
  {
   "cell_type": "code",
   "execution_count": 14,
   "id": "d9590bb8",
   "metadata": {
    "execution": {
     "iopub.execute_input": "2023-07-29T01:16:13.688696Z",
     "iopub.status.busy": "2023-07-29T01:16:13.688294Z",
     "iopub.status.idle": "2023-07-29T01:16:13.975314Z",
     "shell.execute_reply": "2023-07-29T01:16:13.974174Z"
    },
    "papermill": {
     "duration": 0.299445,
     "end_time": "2023-07-29T01:16:13.977750",
     "exception": false,
     "start_time": "2023-07-29T01:16:13.678305",
     "status": "completed"
    },
    "tags": []
   },
   "outputs": [
    {
     "data": {
      "image/png": "[encoded data removed]",
      "text/plain": [
       "<Figure size 1500x500 with 1 Axes>"
      ]
     },
     "metadata": {},
     "output_type": "display_data"
    }
   ],
   "source": [
    "strkf = StratifiedKFold()\n",
    "X_, y_, groups_ = get_fake_X_y()\n",
    "plot_cv(StratifiedKFold, X_, y_, groups_)"
   ]
  },
  {
   "cell_type": "markdown",
   "id": "06357b04",
   "metadata": {
    "papermill": {
     "duration": 0.008732,
     "end_time": "2023-07-29T01:16:13.996023",
     "exception": false,
     "start_time": "2023-07-29T01:16:13.987291",
     "status": "completed"
    },
    "tags": []
   },
   "source": [
    "# Group KFold\n",
    "\n",
    "* The Folds are approximately balanced in the sense that the number of distinct groups is approximately the same in each fold."
   ]
  },
  {
   "cell_type": "code",
   "execution_count": 15,
   "id": "3001e6ab",
   "metadata": {
    "execution": {
     "iopub.execute_input": "2023-07-29T01:16:14.016405Z",
     "iopub.status.busy": "2023-07-29T01:16:14.015991Z",
     "iopub.status.idle": "2023-07-29T01:16:14.288954Z",
     "shell.execute_reply": "2023-07-29T01:16:14.287827Z"
    },
    "papermill": {
     "duration": 0.286338,
     "end_time": "2023-07-29T01:16:14.291391",
     "exception": false,
     "start_time": "2023-07-29T01:16:14.005053",
     "status": "completed"
    },
    "tags": []
   },
   "outputs": [
    {
     "data": {
      "image/png": "[encoded data removed]",
      "text/plain": [
       "<Figure size 1500x500 with 1 Axes>"
      ]
     },
     "metadata": {},
     "output_type": "display_data"
    }
   ],
   "source": [
    "gkf = GroupKFold()\n",
    "X_, y_, groups_ = get_fake_X_y()\n",
    "plot_cv(GroupKFold, X_, y_, groups_)"
   ]
  },
  {
   "cell_type": "markdown",
   "id": "78dc47bf",
   "metadata": {
    "papermill": {
     "duration": 0.009161,
     "end_time": "2023-07-29T01:16:14.310191",
     "exception": false,
     "start_time": "2023-07-29T01:16:14.301030",
     "status": "completed"
    },
    "tags": []
   },
   "source": [
    "# Stratified Group KFold\n",
    "\n",
    "* The difference between GroupKFold and StratifiedGroupKFold is that the former attempts to create balanced folds such that the number of distinct groups is approximately the same in each fold, whereas StratifiedGroupKFold attempts to create folds which preserve the percentage of samples for each class as much as possible given the constraint of non-overlapping groups between splits."
   ]
  },
  {
   "cell_type": "code",
   "execution_count": 16,
   "id": "b732ca2c",
   "metadata": {
    "execution": {
     "iopub.execute_input": "2023-07-29T01:16:14.330651Z",
     "iopub.status.busy": "2023-07-29T01:16:14.330281Z",
     "iopub.status.idle": "2023-07-29T01:16:14.606896Z",
     "shell.execute_reply": "2023-07-29T01:16:14.605761Z"
    },
    "papermill": {
     "duration": 0.289451,
     "end_time": "2023-07-29T01:16:14.609089",
     "exception": false,
     "start_time": "2023-07-29T01:16:14.319638",
     "status": "completed"
    },
    "tags": []
   },
   "outputs": [
    {
     "data": {
      "image/png": "[encoded data removed]",
      "text/plain": [
       "<Figure size 1500x500 with 1 Axes>"
      ]
     },
     "metadata": {},
     "output_type": "display_data"
    }
   ],
   "source": [
    "strgkf = StratifiedGroupKFold()\n",
    "X_, y_, groups_ = get_fake_X_y()\n",
    "np.random.shuffle(y_)\n",
    "plot_cv(StratifiedGroupKFold, X_, y_, groups_)"
   ]
  },
  {
   "cell_type": "markdown",
   "id": "603d1901",
   "metadata": {
    "papermill": {
     "duration": 0.009785,
     "end_time": "2023-07-29T01:16:14.629000",
     "exception": false,
     "start_time": "2023-07-29T01:16:14.619215",
     "status": "completed"
    },
    "tags": []
   },
   "source": [
    "# Time Series Split\n",
    "\n",
    "* TimeSeriesSplit is a variation of k-fold which returns first folds as train set and the fold as test set. Note that unlike standard cross-validation methods, successive training sets are supersets of those that come before them. Also, it adds all surplus data to the first training partition, which is always used to train the model."
   ]
  },
  {
   "cell_type": "code",
   "execution_count": 17,
   "id": "1d09af3e",
   "metadata": {
    "execution": {
     "iopub.execute_input": "2023-07-29T01:16:14.651782Z",
     "iopub.status.busy": "2023-07-29T01:16:14.650670Z",
     "iopub.status.idle": "2023-07-29T01:16:14.920672Z",
     "shell.execute_reply": "2023-07-29T01:16:14.919548Z"
    },
    "papermill": {
     "duration": 0.283968,
     "end_time": "2023-07-29T01:16:14.923148",
     "exception": false,
     "start_time": "2023-07-29T01:16:14.639180",
     "status": "completed"
    },
    "tags": []
   },
   "outputs": [
    {
     "data": {
      "image/png": "[encoded data removed]",
      "text/plain": [
       "<Figure size 1500x500 with 1 Axes>"
      ]
     },
     "metadata": {},
     "output_type": "display_data"
    }
   ],
   "source": [
    "tss = TimeSeriesSplit()\n",
    "X_, y_, groups_ = get_fake_X_y()\n",
    "np.random.shuffle(y_)\n",
    "plot_cv(TimeSeriesSplit, X_, y_, groups_)"
   ]
  },
  {
   "cell_type": "markdown",
   "id": "18ee3e0f",
   "metadata": {
    "papermill": {
     "duration": 0.009952,
     "end_time": "2023-07-29T01:16:14.943458",
     "exception": false,
     "start_time": "2023-07-29T01:16:14.933506",
     "status": "completed"
    },
    "tags": []
   },
   "source": [
    "# Our Example Using Proper Cross Validation\n",
    "1. Small/imbalanced -> Stratified\n",
    "2. Group\n",
    "3. Shuffle is on\n",
    "\n",
    "`StratifiedGroupKFold`"
   ]
  },
  {
   "cell_type": "code",
   "execution_count": 18,
   "id": "0e51dc28",
   "metadata": {
    "execution": {
     "iopub.execute_input": "2023-07-29T01:16:14.966340Z",
     "iopub.status.busy": "2023-07-29T01:16:14.965424Z",
     "iopub.status.idle": "2023-07-29T01:16:14.981877Z",
     "shell.execute_reply": "2023-07-29T01:16:14.980424Z"
    },
    "papermill": {
     "duration": 0.031908,
     "end_time": "2023-07-29T01:16:14.985624",
     "exception": false,
     "start_time": "2023-07-29T01:16:14.953716",
     "status": "completed"
    },
    "tags": []
   },
   "outputs": [],
   "source": [
    "sgk = StratifiedGroupKFold(n_splits=5, shuffle=True, random_state=529)\n",
    "\n",
    "X, y, groups = get_X_y(train)\n",
    "\n",
    "fold = 0\n",
    "aucs = []\n",
    "for train_idx, val_idx in sgk.split(X, y, groups):\n",
    "    break"
   ]
  },
  {
   "cell_type": "code",
   "execution_count": 19,
   "id": "2cad5936",
   "metadata": {
    "execution": {
     "iopub.execute_input": "2023-07-29T01:16:15.011712Z",
     "iopub.status.busy": "2023-07-29T01:16:15.011333Z",
     "iopub.status.idle": "2023-07-29T01:16:15.020692Z",
     "shell.execute_reply": "2023-07-29T01:16:15.019274Z"
    },
    "papermill": {
     "duration": 0.026767,
     "end_time": "2023-07-29T01:16:15.024412",
     "exception": false,
     "start_time": "2023-07-29T01:16:14.997645",
     "status": "completed"
    },
    "tags": []
   },
   "outputs": [
    {
     "data": {
      "text/plain": [
       "array([   0,    1,    2, ..., 4607, 4608, 4609])"
      ]
     },
     "execution_count": 19,
     "metadata": {},
     "output_type": "execute_result"
    }
   ],
   "source": [
    "train_idx"
   ]
  },
  {
   "cell_type": "code",
   "execution_count": 20,
   "id": "11684253",
   "metadata": {
    "execution": {
     "iopub.execute_input": "2023-07-29T01:16:15.055066Z",
     "iopub.status.busy": "2023-07-29T01:16:15.054626Z",
     "iopub.status.idle": "2023-07-29T01:16:15.066904Z",
     "shell.execute_reply": "2023-07-29T01:16:15.065705Z"
    },
    "papermill": {
     "duration": 0.03092,
     "end_time": "2023-07-29T01:16:15.070278",
     "exception": false,
     "start_time": "2023-07-29T01:16:15.039358",
     "status": "completed"
    },
    "tags": []
   },
   "outputs": [
    {
     "data": {
      "text/plain": [
       "array([1710, 1711, 1712, 1713, 1714, 1715, 1716, 1717, 1718, 1719, 1720,\n",
       "       1721, 1722, 1723, 1724, 1725, 1726, 1727, 1728, 1729, 1730, 1731,\n",
       "       1732, 1733, 1734, 1735, 1736, 1737, 1738, 1739, 1740, 1741, 1742,\n",
       "       1743, 1744, 1745, 1746, 1747, 1748, 1749, 1750, 1751, 1752, 1753,\n",
       "       1754, 1755, 1756, 1757, 1758, 1759, 1760, 1761, 1762, 1763, 1764,\n",
       "       1765, 1766, 1767, 1768, 1769, 1770, 1771, 1772, 1773, 1774, 1775,\n",
       "       1776, 1777, 1778, 1779, 1780, 1781, 1782, 1783, 1784, 1785, 1786,\n",
       "       1787, 1788, 1789, 1790, 1791, 1792, 1793, 1794, 1795, 1796, 1797,\n",
       "       1798, 1799, 1800, 1801, 1802, 1803, 1804, 1805, 1806, 1807, 1808,\n",
       "       1809, 1810, 1811, 1812, 1813, 1814, 1815, 1816, 1817, 1818, 1819,\n",
       "       1820, 1821, 1822, 1823, 1824, 1825, 1826, 1827, 1828, 1829, 1830,\n",
       "       1831, 1832, 1833, 1834, 1835, 1836, 1837, 1838, 1839, 1840, 1841,\n",
       "       1842, 1843, 1844, 1845, 1846, 1847, 1848, 1849, 1850, 1851, 1852,\n",
       "       1853, 1854, 1855, 1856, 1857, 1858, 1859, 1860, 1861, 1862, 1863,\n",
       "       1864, 1865, 1866, 1867, 1868, 1869, 1870, 1871, 1872, 1873, 1874,\n",
       "       1875, 1876, 1877, 1878, 1879, 1880, 1881, 1882, 1883, 1884, 1885,\n",
       "       1886, 1887, 1888, 1889, 1890, 1891, 1892, 1893, 1894, 1895, 1896,\n",
       "       1897, 1898, 1899, 1900, 1901, 1902, 1903, 1904, 1905, 1906, 1907,\n",
       "       1908, 1909, 1910, 1911, 1912, 1913, 1914, 1915, 1916, 1917, 1918,\n",
       "       1919, 1920, 1921, 1922, 1923, 1924, 1925, 1926, 1927, 1928, 1929,\n",
       "       1930, 1931, 1932, 1933, 1934, 1935, 1936, 1937, 1938, 1939, 1940,\n",
       "       1941, 1942, 1943, 1944, 1945, 1946, 1947, 1948, 1949, 1950, 1951,\n",
       "       1952, 1953, 1954, 1955, 1956, 1957, 1958, 1959, 1960, 1961, 1962,\n",
       "       1963, 1964, 1965, 1966, 1967, 1968, 1969, 1970, 1971, 1972, 1973,\n",
       "       1974, 1975, 1976, 1977, 1978, 1979, 1980, 1981, 1982, 1983, 1984,\n",
       "       1985, 1986, 1987, 1988, 1989, 1990, 1991, 1992, 1993, 1994, 1995,\n",
       "       1996, 1997, 1998, 1999, 2000, 2001, 2002, 2003, 2004, 2005, 2006,\n",
       "       2007, 2008, 2009, 2010, 2011, 2012, 2013, 2014, 2015, 2016, 2017,\n",
       "       2018, 2019, 2020, 2021, 2022, 2023, 2024, 2025, 2026, 2027, 2028,\n",
       "       2029, 2030, 2031, 2032, 2033, 2034, 2035, 2036, 2037, 2038, 2039,\n",
       "       2040, 2041, 2042, 2043, 2044, 2045, 2046, 2047, 2048, 2049, 2050,\n",
       "       2051, 2052, 2053, 2054, 2055, 2056, 2057, 2058, 2059, 2060, 2061,\n",
       "       2062, 2063, 2064, 2065, 2066, 2067, 2068, 2069, 2070, 2071, 2072,\n",
       "       2073, 2074, 2075, 2076, 2077, 2078, 2079, 2080, 2081, 2082, 2083,\n",
       "       2084, 2085, 2086, 2087, 2088, 2089, 2090, 2091, 2092, 2093, 2094,\n",
       "       2095, 2096, 2097, 2098, 2099, 2100, 2101, 2102, 2103, 2104, 2105,\n",
       "       2106, 2107, 2108, 2109, 2110, 2111, 2112, 2113, 2114, 2115, 2116,\n",
       "       2117, 2118, 2119, 2120, 2121, 2122, 2123, 2124, 2125, 2126, 2127,\n",
       "       2128, 2129, 2130, 2131, 2132, 2133, 2134, 2135, 2136, 2137, 2138,\n",
       "       2139, 2140, 2141, 2142, 2143, 2144, 2145, 2146, 2147, 2148, 2149,\n",
       "       2150, 2151, 2152, 2153, 2154, 2155, 2156, 2157, 2158, 2159, 2160,\n",
       "       2161, 2162, 2163, 2164, 2165, 2166, 2167, 2168, 2169, 2170, 2171,\n",
       "       2172, 2173, 2174, 2175, 2176, 2177, 2178, 2179, 2180, 2181, 2182,\n",
       "       2183, 2184, 2185, 2186, 2187, 2188, 2189, 2190, 2191, 2192, 2193,\n",
       "       2194, 2195, 2196, 2197, 2198, 2199, 2200, 2201, 2202, 2203, 2204,\n",
       "       2205, 2206, 2207, 2208, 2209, 2210, 2211, 2212, 2213, 2214, 2215,\n",
       "       2216, 2217, 2218, 2219, 2220, 2221, 2222, 2223, 2224, 2225, 2226,\n",
       "       2227, 2228, 2229, 2230, 2231, 2232, 2233, 2234, 2235, 2236, 2237,\n",
       "       2238, 2239, 2240, 2241, 2242, 2243, 2244, 2245, 2246, 2247, 2248,\n",
       "       2249, 2250, 2251, 2252, 2253, 2254, 2255, 2256, 2257, 2258, 2259,\n",
       "       2260, 2261, 2262, 2263, 2264, 2265, 2266, 2267, 2268, 2269, 2270,\n",
       "       2271, 2272, 2273, 2274, 2275, 2276, 2277, 2278, 2279, 2280, 2281,\n",
       "       2282, 2283, 2284, 2285, 2286, 2287, 2288, 2289, 2290, 2291, 2292])"
      ]
     },
     "execution_count": 20,
     "metadata": {},
     "output_type": "execute_result"
    }
   ],
   "source": [
    "val_idx"
   ]
  },
  {
   "cell_type": "code",
   "execution_count": 21,
   "id": "af09c711",
   "metadata": {
    "execution": {
     "iopub.execute_input": "2023-07-29T01:16:15.094887Z",
     "iopub.status.busy": "2023-07-29T01:16:15.094027Z",
     "iopub.status.idle": "2023-07-29T01:16:18.185886Z",
     "shell.execute_reply": "2023-07-29T01:16:18.184826Z"
    },
    "papermill": {
     "duration": 3.106995,
     "end_time": "2023-07-29T01:16:18.188263",
     "exception": false,
     "start_time": "2023-07-29T01:16:15.081268",
     "status": "completed"
    },
    "tags": []
   },
   "outputs": [
    {
     "name": "stdout",
     "output_type": "stream",
     "text": [
      "====== Fold 0 ======\n",
      "Our accuracy on the validation set is 0.9434 and AUC is 0.8099\n",
      "====== Fold 1 ======\n",
      "Our accuracy on the validation set is 0.9456 and AUC is 0.8366\n",
      "====== Fold 2 ======\n",
      "Our accuracy on the validation set is 0.9503 and AUC is 0.8220\n",
      "====== Fold 3 ======\n",
      "Our accuracy on the validation set is 0.9567 and AUC is 0.8591\n",
      "====== Fold 4 ======\n",
      "Our accuracy on the validation set is 0.9466 and AUC is 0.8260\n",
      "Our out of fold AUC score is 0.8307\n"
     ]
    }
   ],
   "source": [
    "sgk = StratifiedGroupKFold(n_splits=5, shuffle=True, random_state=529)\n",
    "\n",
    "X, y, groups = get_X_y(train)\n",
    "\n",
    "fold = 0\n",
    "aucs = []\n",
    "for train_idx, val_idx in sgk.split(X, y, groups):\n",
    "    X_tr = X.loc[train_idx]\n",
    "    y_tr = y.loc[train_idx]\n",
    "    \n",
    "    X_val = X.loc[val_idx]\n",
    "    y_val = y.loc[val_idx]\n",
    "    \n",
    "    # Fit Model on Train\n",
    "    clf = lgb.LGBMClassifier(n_estimators=100)\n",
    "    clf.fit(X_tr, y_tr)\n",
    "    pred = clf.predict(X_val)\n",
    "    pred_prob = clf.predict_proba(X_val)[:, 1]\n",
    "    acc_score = accuracy_score(y_val, pred)\n",
    "    auc_score = roc_auc_score(y_val, pred_prob)\n",
    "    print(f'====== Fold {fold} ======')\n",
    "    print(f'Our accuracy on the validation set is {acc_score:0.4f} and AUC is {auc_score:0.4f}')\n",
    "    fold += 1\n",
    "    aucs.append(auc_score)\n",
    "oof_auc = np.mean(aucs)\n",
    "print(f'Our out of fold AUC score is {oof_auc:0.4f}')"
   ]
  },
  {
   "cell_type": "code",
   "execution_count": null,
   "id": "2127e26c",
   "metadata": {
    "papermill": {
     "duration": 0.010646,
     "end_time": "2023-07-29T01:16:18.210078",
     "exception": false,
     "start_time": "2023-07-29T01:16:18.199432",
     "status": "completed"
    },
    "tags": []
   },
   "outputs": [],
   "source": []
  }
 ],
 "metadata": {
  "kernelspec": {
   "display_name": "Python 3",
   "language": "python",
   "name": "python3"
  },
  "language_info": {
   "codemirror_mode": {
    "name": "ipython",
    "version": 3
   },
   "file_extension": ".py",
   "mimetype": "text/x-python",
   "name": "python",
   "nbconvert_exporter": "python",
   "pygments_lexer": "ipython3",
   "version": "3.10.12"
  },
  "papermill": {
   "default_parameters": {},
   "duration": 21.528676,
   "end_time": "2023-07-29T01:16:19.343427",
   "environment_variables": {},
   "exception": null,
   "input_path": "__notebook__.ipynb",
   "output_path": "__notebook__.ipynb",
   "parameters": {},
   "start_time": "2023-07-29T01:15:57.814751",
   "version": "2.4.0"
  }
 },
 "nbformat": 4,
 "nbformat_minor": 5
}
